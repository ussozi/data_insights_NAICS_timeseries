{
 "cells": [
  {
   "cell_type": "markdown",
   "metadata": {},
   "source": [
    "# NAICS TIMESERIES ANALYSIS"
   ]
  },
  {
   "cell_type": "markdown",
   "metadata": {},
   "source": [
    "\n",
    "The North American Industry Classification System (NAICS) is an industry classification system developed by \n",
    "the statistical agencies of Canada, Mexico and the United States. Created against the background of the \n",
    "North American Free Trade Agreement, it is designed to provide common definitions of the industrial structure of the \n",
    "three countries and a common statistical framework to facilitate the analysis of the three economies"
   ]
  },
  {
   "cell_type": "markdown",
   "metadata": {},
   "source": [
    "### Importing packages"
   ]
  },
  {
   "cell_type": "code",
   "execution_count": 32,
   "metadata": {},
   "outputs": [],
   "source": [
    "import pandas as pd\n",
    "import numpy as np\n",
    "import matplotlib.pyplot as plt\n",
    "import seaborn as sns\n",
    "import os"
   ]
  },
  {
   "cell_type": "markdown",
   "metadata": {},
   "source": [
    "### load datasets"
   ]
  },
  {
   "cell_type": "code",
   "execution_count": 78,
   "metadata": {},
   "outputs": [],
   "source": [
    "file_path=r'C:\\Users\\ssoziu\\Desktop\\Data Insights\\NAICS time series analysis\\A_NEWLY_HIRED_DATA_ANALYST'\n",
    "level_2=['RTRA_Employ_2NAICS_00_05.csv','RTRA_Employ_2NAICS_06_10.csv','RTRA_Employ_2NAICS_11_15.csv','RTRA_Employ_2NAICS_16_20.csv','RTRA_Employ_2NAICS_97_99.csv']\n",
    "level_3=['RTRA_Employ_3NAICS_00_05.csv','RTRA_Employ_3NAICS_06_10.csv','RTRA_Employ_3NAICS_11_15.csv','RTRA_Employ_3NAICS_16_20.csv','RTRA_Employ_3NAICS_97_99.csv']\n",
    "level_4=['RTRA_Employ_4NAICS_00_05.csv','RTRA_Employ_4NAICS_06_10.csv','RTRA_Employ_4NAICS_11_15.csv','RTRA_Employ_4NAICS_16_20.csv','RTRA_Employ_4NAICS_97_99.csv']\n"
   ]
  },
  {
   "cell_type": "code",
   "execution_count": 82,
   "metadata": {},
   "outputs": [],
   "source": [
    "data_level2=pd.DataFrame()\n",
    "for data in level_2:\n",
    "    df= pd.read_csv(os.path.join(file_path,str(data)))\n",
    "    df[['NAICS','CODE']] = df.NAICS.str.split(\"[\",expand=True)\n",
    "    df['CODE']=df['CODE'].replace({']':''}, regex=True)\n",
    "    df[['CODE','UPPER_CODE']] = df.CODE.str.split(\"-\",expand=True)\n",
    "    data_level2 = data_level2.append(df, ignore_index=True)\n",
    "\n",
    "data_level3=pd.DataFrame()\n",
    "for data in level_3:\n",
    "    df= pd.read_csv(os.path.join(file_path,str(data)))\n",
    "    df[['NAICS','CODE']] = df.NAICS.str.split(\"[\",expand=True)\n",
    "    df['CODE']=df['CODE'].replace({']':''}, regex=True)\n",
    "    df['UPPER_CODE'] = 0\n",
    "    data_level3 = data_level3.append(df, ignore_index=True)\n",
    "    \n",
    "data_level4=pd.DataFrame()\n",
    "for data in level_4:\n",
    "    df= pd.read_csv(os.path.join(file_path,str(data)))\n",
    "    df['CODE']=df['NAICS']\n",
    "    df['UPPER_CODE'] = 0\n",
    "    data_level4 = data_level4.append(df, ignore_index=True)\n",
    "    \n",
    "del df"
   ]
  },
  {
   "cell_type": "markdown",
   "metadata": {},
   "source": [
    "### Getting the Combined data"
   ]
  },
  {
   "cell_type": "code",
   "execution_count": 84,
   "metadata": {},
   "outputs": [],
   "source": [
    "data_combined=pd.DataFrame()\n",
    "\n",
    "df=pd.DataFrame()\n",
    "df=df.append(data_level2, ignore_index=True)\n",
    "df=df.append(data_level3, ignore_index=True)\n",
    "df=df.append(data_level4, ignore_index=True)\n",
    "\n",
    "data_combined=data_combined.append(df, ignore_index=True)\n",
    "\n",
    "del df"
   ]
  },
  {
   "cell_type": "markdown",
   "metadata": {},
   "source": [
    "### Adding the MNO names to the data"
   ]
  },
  {
   "cell_type": "code",
   "execution_count": 142,
   "metadata": {},
   "outputs": [],
   "source": [
    "data_desc= pd.read_excel(os.path.join(file_path,'LMO_Detailed_Industries_by_NAICS.xlsx'))\n",
    "data_desc['NAICS']=data_desc['NAICS'].replace({'&':','}, regex=True)\n",
    "data_desc=data_desc[['NAICS','LMO_Detailed_Industry']]\n",
    "\n",
    "data_desc1=data_desc[~data_desc['NAICS'].str.contains(',', na=False)]\n",
    "data_desc2=data_desc[data_desc['NAICS'].str.contains(',', na=False)]\n",
    "\n",
    "\n",
    "data_desc2=data_desc2.assign(NAICS=data_desc2['NAICS'].str.split(',')).explode('NAICS')\n",
    "\n",
    "\n",
    "data_desc=data_desc1.append(data_desc2, ignore_index=True)\n",
    "data_desc.columns=['CODE','LMO_Detailed_Industry']"
   ]
  },
  {
   "cell_type": "markdown",
   "metadata": {},
   "source": [
    "### Adding new names to the combined data"
   ]
  },
  {
   "cell_type": "code",
   "execution_count": 161,
   "metadata": {},
   "outputs": [],
   "source": [
    "data_final=data_combined.merge(data_desc,how='left', on='CODE')"
   ]
  },
  {
   "cell_type": "code",
   "execution_count": 153,
   "metadata": {},
   "outputs": [],
   "source": [
    "data_final=data_desc.merge(data_combined,how='left', on='CODE')"
   ]
  },
  {
   "cell_type": "markdown",
   "metadata": {},
   "source": [
    "### Add data to the template"
   ]
  },
  {
   "cell_type": "code",
   "execution_count": 184,
   "metadata": {},
   "outputs": [],
   "source": [
    "data_output= pd.read_excel(os.path.join(file_path,'Data_Output_Template.xlsx'))"
   ]
  },
  {
   "cell_type": "code",
   "execution_count": 185,
   "metadata": {},
   "outputs": [],
   "source": [
    "cols = ['SYEAR', 'SMTH', 'LMO_Detailed_Industry']\n",
    "data_output['check']= data_output[cols].apply(lambda row: '_'.join(row.values.astype(str)), axis=1)\n",
    "data_final['check']= data_output[cols].apply(lambda row: '_'.join(row.values.astype(str)), axis=1)\n",
    "\n",
    "data_final=data_final[['check', '_EMPLOYMENT_']]"
   ]
  },
  {
   "cell_type": "code",
   "execution_count": 186,
   "metadata": {},
   "outputs": [],
   "source": [
    "data_output=data_output.merge(data_final,how='left', on='check')"
   ]
  },
  {
   "cell_type": "code",
   "execution_count": 188,
   "metadata": {},
   "outputs": [],
   "source": [
    "data_output.drop(['Employment','check'],axis=1,inplace=True)\n",
    "data_output.columns=['SYEAR', 'SMTH', 'LMO_Detailed_Industry', 'Employment']"
   ]
  },
  {
   "cell_type": "markdown",
   "metadata": {},
   "source": [
    "## Exploratory Analysis"
   ]
  },
  {
   "cell_type": "code",
   "execution_count": null,
   "metadata": {},
   "outputs": [],
   "source": []
  },
  {
   "cell_type": "code",
   "execution_count": null,
   "metadata": {},
   "outputs": [],
   "source": []
  },
  {
   "cell_type": "code",
   "execution_count": null,
   "metadata": {},
   "outputs": [],
   "source": []
  },
  {
   "cell_type": "code",
   "execution_count": null,
   "metadata": {},
   "outputs": [],
   "source": []
  },
  {
   "cell_type": "code",
   "execution_count": null,
   "metadata": {},
   "outputs": [],
   "source": []
  },
  {
   "cell_type": "code",
   "execution_count": null,
   "metadata": {},
   "outputs": [],
   "source": []
  }
 ],
 "metadata": {
  "kernelspec": {
   "display_name": "Python 3",
   "language": "python",
   "name": "python3"
  },
  "language_info": {
   "codemirror_mode": {
    "name": "ipython",
    "version": 3
   },
   "file_extension": ".py",
   "mimetype": "text/x-python",
   "name": "python",
   "nbconvert_exporter": "python",
   "pygments_lexer": "ipython3",
   "version": "3.7.6"
  }
 },
 "nbformat": 4,
 "nbformat_minor": 4
}
